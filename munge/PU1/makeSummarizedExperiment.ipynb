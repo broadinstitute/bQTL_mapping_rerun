{
 "cells": [
  {
   "cell_type": "code",
   "execution_count": null,
   "id": "colonial-wesley",
   "metadata": {},
   "outputs": [],
   "source": [
    "library(\"dplyr\")\n",
    "library(\"cqn\")\n",
    "# library(\"devtools\")\n",
    "library(\"SummarizedExperiment\")\n",
    "library(\"rtracklayer\")\n",
    "library(\"seqUtils\")"
   ]
  },
  {
   "cell_type": "code",
   "execution_count": null,
   "id": "qualified-accountability",
   "metadata": {},
   "outputs": [],
   "source": [
    ".libPaths()"
   ]
  },
  {
   "cell_type": "code",
   "execution_count": null,
   "id": "unexpected-bibliography",
   "metadata": {},
   "outputs": [],
   "source": [
    "getwd()"
   ]
  },
  {
   "cell_type": "code",
   "execution_count": null,
   "id": "subsequent-newcastle",
   "metadata": {},
   "outputs": [],
   "source": [
    "setwd('/mnt/DATA/bQTL_mapping_rerun')"
   ]
  },
  {
   "cell_type": "code",
   "execution_count": null,
   "id": "received-condition",
   "metadata": {},
   "outputs": [],
   "source": [
    "# Import Peaks and GC-content \n",
    "peaks = readr::read_delim(\"results/PU1/GCcontent.txt\", delim = \"\\t\", col_types = \"ciiddiiiiiii\") \n",
    "colnames(peaks) = c(\"chr\",\"start\",\"end\",\"pct_at\",\"percentage_gc_content\",\"num_A\",\"num_C\",\"numG\",\"num_T\",\"num_N\", \"num_oth\",\"length\")\n",
    "regions = peaks[,c(1,2,3,12)] \n",
    "regions = regions %>% as.data.frame() %>% tibble::as_tibble() %>% dplyr::mutate(strand = 1)\n",
    "gc_content = peaks[,c(1,2,3,5)]"
   ]
  },
  {
   "cell_type": "code",
   "execution_count": null,
   "id": "written-savings",
   "metadata": {},
   "outputs": [],
   "source": [
    "# Import phenotype IDs\n",
    "phenotype_IDs = readr::read_delim(\"results/PU1/consensus.saf\", delim = \"\\t\", col_names = FALSE, col_types = \"cciic\") \n",
    "colnames(phenotype_IDs) = c(\"phenotype_id\",\"chr\",\"start\",\"end\",\"strand\")\n",
    "phenotype_IDs = phenotype_IDs[,c(1,2,3,4)]"
   ]
  },
  {
   "cell_type": "code",
   "execution_count": null,
   "id": "empty-citizen",
   "metadata": {},
   "outputs": [],
   "source": [
    "# Merge & label row names\n",
    "peak_data = dplyr::left_join(regions, gc_content, by = c(\"chr\",\"start\",\"end\")) %>% as.data.frame() \n",
    "peak_data = dplyr::left_join(phenotype_IDs, peak_data, by = c(\"chr\",\"start\",\"end\")) %>% as.data.frame() \n",
    "rownames(peak_data) = phenotype_IDs$phenotype_id\n",
    "peak_data = dplyr::rename(peak_data, gene_id = phenotype_id)\n",
    "head(peak_data)"
   ]
  },
  {
   "cell_type": "code",
   "execution_count": null,
   "id": "known-operator",
   "metadata": {},
   "outputs": [],
   "source": [
    "#Import counts\n",
    "counts = readr::read_delim(\"results/PU1/counts.merged.txt\",  delim = \"\\t\")\n",
    "count_matrix = dplyr::select(counts, -Chr,-Start,-End,-Strand, -Geneid, -Length) %>% as.matrix()\n",
    "rownames(count_matrix) = phenotype_IDs$phenotype_id\n",
    "genotype_id = c(\"NA06985_PU1\",\"NA06986_PU1\",\"NA06994_PU1\",\"NA07037_PU1\",\"NA07048_PU1\",\"NA07051_PU1\",\"NA07056_PU1\",\"NA07346_PU1\",\"NA07357_PU1\",\"NA10847_PU1\",\"NA10851_PU1\",\"NA11829_PU1\",\"NA11830_PU1\",\"NA11831_PU1\",\"NA11832_PU1\",\"NA11840_PU1\",\"NA11881_PU1\",\"NA11894_PU1\",\"NA11918_PU1\",\"NA11920_PU1\",\"NA11931_PU1\",\"NA11992_PU1\",\"NA11993_PU1\",\"NA11994_PU1\",\"NA12005_PU1\",\"NA12043_PU1\",\"NA12154_PU1\",\"NA12156_PU1\",\"NA12234_PU1\",\"NA12249_PU1\",\"NA12275_PU1\",\"NA12282_PU1\",\"NA12286_PU1\",\"NA12287_PU1\",\"NA12383_PU1\",\"NA12489_PU1\",\"NA12750_PU1\",\"NA12760_PU1\",\"NA12761_PU1\",\"NA12762_PU1\",\"NA12763_PU1\",\"NA12776_PU1\",\"NA12812_PU1\",\"NA12813_PU1\",\"NA12814_PU1\",\"NA12815_PU1\",\"NA12873_PU1\")\n",
    "colnames(count_matrix) = genotype_id\n",
    "head(count_matrix)"
   ]
  },
  {
   "cell_type": "code",
   "execution_count": null,
   "id": "formal-pierce",
   "metadata": {},
   "outputs": [],
   "source": [
    "# Normalize with CQN\n",
    "cqn_matrix = calculateCQN(count_matrix, peak_data)\n",
    "head(cqn_matrix)"
   ]
  },
  {
   "cell_type": "code",
   "execution_count": null,
   "id": "aware-gauge",
   "metadata": {},
   "outputs": [],
   "source": [
    "#Import the list of genotyped samples\n",
    "genotyped = read.table(\"data/Waszak_2015/Waszak_2015_genotype_list.txt\")"
   ]
  },
  {
   "cell_type": "code",
   "execution_count": null,
   "id": "homeless-heaven",
   "metadata": {},
   "outputs": [],
   "source": [
    "#Import 1000G metadata\n",
    "kg_meta = readr::read_delim(\"metadata/1000_genomes_sample_metadata.txt\",  delim = \"\\t\")\n",
    "kg_meta = dplyr::rename(kg_meta, genotype_id = Sample)\n",
    "head(kg_meta)"
   ]
  },
  {
   "cell_type": "code",
   "execution_count": null,
   "id": "chinese-insulation",
   "metadata": {},
   "outputs": [],
   "source": [
    "#Import Waszak metadata\n",
    "sample_meta = readr::read_tsv(\"data/Waszak_2015/Waszak_2015_clean_metadata.txt\") %>% dplyr::filter(sample_id %in% colnames(count_matrix)) %>% dplyr::select(sample_id, genotype_id) %>% dplyr::left_join(kg_meta, by = \"genotype_id\") %>% dplyr::filter(genotype_id %in% genotyped$V1) %>% as.data.frame()\n",
    "rownames(sample_meta) = sample_meta$sample_id\n",
    "head(sample_meta)"
   ]
  },
  {
   "cell_type": "code",
   "execution_count": null,
   "id": "editorial-distance",
   "metadata": {},
   "outputs": [],
   "source": [
    "#Construct a SummarizedExperiment object\n",
    "se = SummarizedExperiment::SummarizedExperiment(\n",
    "  assays = list(counts = count_matrix[,rownames(sample_meta)], cqn = cqn_matrix[,rownames(sample_meta)]), \n",
    "  colData = sample_meta, \n",
    "  rowData = peak_data)\n",
    "saveRDS(se, \"results/SummarizedExperiment/PU1_SummarizedExperiment.rds\")"
   ]
  }
 ],
 "metadata": {
  "kernelspec": {
   "display_name": "R [conda env:.conda-r_4.0.3]",
   "language": "R",
   "name": "conda-env-.conda-r_4.0.3-r"
  },
  "language_info": {
   "codemirror_mode": "r",
   "file_extension": ".r",
   "mimetype": "text/x-r-source",
   "name": "R",
   "pygments_lexer": "r",
   "version": "4.0.3"
  }
 },
 "nbformat": 4,
 "nbformat_minor": 5
}
